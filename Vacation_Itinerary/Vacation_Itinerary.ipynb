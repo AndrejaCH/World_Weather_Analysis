{
 "cells": [
  {
   "cell_type": "markdown",
   "metadata": {},
   "source": [
    "## Deliverable 3. Create a Travel Itinerary Map."
   ]
  },
  {
   "cell_type": "code",
   "execution_count": 24,
   "metadata": {},
   "outputs": [],
   "source": [
    "# Dependencies and Setup\n",
    "import pandas as pd\n",
    "import requests\n",
    "import gmaps\n",
    "\n",
    "# Import API key\n",
    "from config import g_key\n",
    "\n",
    "# Configure gmaps\n",
    "gmaps.configure(api_key=g_key)"
   ]
  },
  {
   "cell_type": "code",
   "execution_count": 25,
   "metadata": {},
   "outputs": [
    {
     "data": {
      "text/html": [
       "<div>\n",
       "<style scoped>\n",
       "    .dataframe tbody tr th:only-of-type {\n",
       "        vertical-align: middle;\n",
       "    }\n",
       "\n",
       "    .dataframe tbody tr th {\n",
       "        vertical-align: top;\n",
       "    }\n",
       "\n",
       "    .dataframe thead th {\n",
       "        text-align: right;\n",
       "    }\n",
       "</style>\n",
       "<table border=\"1\" class=\"dataframe\">\n",
       "  <thead>\n",
       "    <tr style=\"text-align: right;\">\n",
       "      <th></th>\n",
       "      <th>City_ID</th>\n",
       "      <th>City</th>\n",
       "      <th>Country</th>\n",
       "      <th>Max Temp</th>\n",
       "      <th>Current Description</th>\n",
       "      <th>Lat</th>\n",
       "      <th>Lng</th>\n",
       "      <th>Hotel Name</th>\n",
       "    </tr>\n",
       "  </thead>\n",
       "  <tbody>\n",
       "    <tr>\n",
       "      <th>0</th>\n",
       "      <td>10</td>\n",
       "      <td>Conde</td>\n",
       "      <td>BR</td>\n",
       "      <td>80.60</td>\n",
       "      <td>broken clouds</td>\n",
       "      <td>-7.26</td>\n",
       "      <td>-34.91</td>\n",
       "      <td>Pousada Beija Flor</td>\n",
       "    </tr>\n",
       "    <tr>\n",
       "      <th>1</th>\n",
       "      <td>13</td>\n",
       "      <td>San Patricio</td>\n",
       "      <td>MX</td>\n",
       "      <td>77.00</td>\n",
       "      <td>overcast clouds</td>\n",
       "      <td>19.22</td>\n",
       "      <td>-104.70</td>\n",
       "      <td>Hotel Cabo Blanco</td>\n",
       "    </tr>\n",
       "    <tr>\n",
       "      <th>2</th>\n",
       "      <td>14</td>\n",
       "      <td>Marsa Matruh</td>\n",
       "      <td>EG</td>\n",
       "      <td>80.60</td>\n",
       "      <td>clear sky</td>\n",
       "      <td>31.35</td>\n",
       "      <td>27.25</td>\n",
       "      <td>Beau Site</td>\n",
       "    </tr>\n",
       "    <tr>\n",
       "      <th>3</th>\n",
       "      <td>17</td>\n",
       "      <td>Ahome</td>\n",
       "      <td>MX</td>\n",
       "      <td>82.00</td>\n",
       "      <td>overcast clouds</td>\n",
       "      <td>25.92</td>\n",
       "      <td>-109.18</td>\n",
       "      <td>Rancho El Sauce y la Palma</td>\n",
       "    </tr>\n",
       "    <tr>\n",
       "      <th>4</th>\n",
       "      <td>18</td>\n",
       "      <td>Batticaloa</td>\n",
       "      <td>LK</td>\n",
       "      <td>81.54</td>\n",
       "      <td>overcast clouds</td>\n",
       "      <td>7.71</td>\n",
       "      <td>81.69</td>\n",
       "      <td>Grand Star Guest House</td>\n",
       "    </tr>\n",
       "  </tbody>\n",
       "</table>\n",
       "</div>"
      ],
      "text/plain": [
       "   City_ID          City Country  Max Temp Current Description    Lat     Lng  \\\n",
       "0       10         Conde      BR     80.60       broken clouds  -7.26  -34.91   \n",
       "1       13  San Patricio      MX     77.00     overcast clouds  19.22 -104.70   \n",
       "2       14  Marsa Matruh      EG     80.60           clear sky  31.35   27.25   \n",
       "3       17         Ahome      MX     82.00     overcast clouds  25.92 -109.18   \n",
       "4       18    Batticaloa      LK     81.54     overcast clouds   7.71   81.69   \n",
       "\n",
       "                   Hotel Name  \n",
       "0          Pousada Beija Flor  \n",
       "1           Hotel Cabo Blanco  \n",
       "2                   Beau Site  \n",
       "3  Rancho El Sauce y la Palma  \n",
       "4      Grand Star Guest House  "
      ]
     },
     "execution_count": 25,
     "metadata": {},
     "output_type": "execute_result"
    }
   ],
   "source": [
    "# 1. Read the WeatherPy_vacation.csv into a DataFrame.\n",
    "vacation_df = pd.read_csv(\"../Vacation_Search/WeatherPy_vacation.csv\")\n",
    "vacation_df.head()"
   ]
  },
  {
   "cell_type": "code",
   "execution_count": 26,
   "metadata": {},
   "outputs": [],
   "source": [
    "# 2. Using the template add the city name, the country code, the weather description and maximum temperature for the city.\n",
    "info_box_template = \"\"\"\n",
    "<dl>\n",
    "<dt>Hotel Name</dt><dd>{Hotel Name}</dd>\n",
    "<dt>City</dt><dd>{City}</dd>\n",
    "<dt>Country</dt><dd>{Country}</dd>\n",
    "<dt>Current Weather</dt><dd>{Current Description} and {Max Temp} °F</dd>\n",
    "</dl>\n",
    "\"\"\"\n",
    "\n",
    "# 3a. Get the data from each row and add it to the formatting template and store the data in a list.\n",
    "hotel_info = [info_box_template.format(**row) for index, row in vacation_df.iterrows()]\n",
    "\n",
    "# 3b. Get the latitude and longitude from each row and store in a new DataFrame.\n",
    "locations = vacation_df[[\"Lat\", \"Lng\"]]"
   ]
  },
  {
   "cell_type": "code",
   "execution_count": 27,
   "metadata": {},
   "outputs": [
    {
     "data": {
      "application/vnd.jupyter.widget-view+json": {
       "model_id": "4875040421534af2868b03fa6042497a",
       "version_major": 2,
       "version_minor": 0
      },
      "text/plain": [
       "Figure(layout=FigureLayout(height='420px'))"
      ]
     },
     "metadata": {},
     "output_type": "display_data"
    }
   ],
   "source": [
    "# 4a. Add a marker layer for each city to the map.\n",
    "max_temp = vacation_df[\"Max Temp\"]\n",
    "fig = gmaps.figure(center=(30.0, 31.0), zoom_level=1.5)\n",
    "heat_layer = gmaps.heatmap_layer(locations, weights=max_temp,dissipating=False,\n",
    "             max_intensity=300, point_radius=4)\n",
    "marker_layer = gmaps.marker_layer(locations, info_box_content=hotel_info)\n",
    "fig.add_layer(heat_layer)\n",
    "fig.add_layer(marker_layer)\n",
    "\n",
    "# 4b. Display the figure\n",
    "fig\n"
   ]
  },
  {
   "cell_type": "code",
   "execution_count": 28,
   "metadata": {},
   "outputs": [
    {
     "data": {
      "text/html": [
       "<div>\n",
       "<style scoped>\n",
       "    .dataframe tbody tr th:only-of-type {\n",
       "        vertical-align: middle;\n",
       "    }\n",
       "\n",
       "    .dataframe tbody tr th {\n",
       "        vertical-align: top;\n",
       "    }\n",
       "\n",
       "    .dataframe thead th {\n",
       "        text-align: right;\n",
       "    }\n",
       "</style>\n",
       "<table border=\"1\" class=\"dataframe\">\n",
       "  <thead>\n",
       "    <tr style=\"text-align: right;\">\n",
       "      <th></th>\n",
       "      <th>City_ID</th>\n",
       "      <th>City</th>\n",
       "      <th>Country</th>\n",
       "      <th>Max Temp</th>\n",
       "      <th>Current Description</th>\n",
       "      <th>Lat</th>\n",
       "      <th>Lng</th>\n",
       "      <th>Hotel Name</th>\n",
       "    </tr>\n",
       "  </thead>\n",
       "  <tbody>\n",
       "    <tr>\n",
       "      <th>30</th>\n",
       "      <td>102</td>\n",
       "      <td>San Cristobal</td>\n",
       "      <td>VE</td>\n",
       "      <td>80.6</td>\n",
       "      <td>broken clouds</td>\n",
       "      <td>7.77</td>\n",
       "      <td>-72.22</td>\n",
       "      <td>Pirineos</td>\n",
       "    </tr>\n",
       "  </tbody>\n",
       "</table>\n",
       "</div>"
      ],
      "text/plain": [
       "    City_ID           City Country  Max Temp Current Description   Lat    Lng  \\\n",
       "30      102  San Cristobal      VE      80.6       broken clouds  7.77 -72.22   \n",
       "\n",
       "   Hotel Name  \n",
       "30   Pirineos  "
      ]
     },
     "execution_count": 28,
     "metadata": {},
     "output_type": "execute_result"
    }
   ],
   "source": [
    "# From the map above pick 4 cities and create a vacation itinerary route to travel between the four cities. \n",
    "# 5. Create DataFrames for each city by filtering the 'vacation_df' using the loc method. \n",
    "# Hint: The starting and ending city should be the same city.\n",
    "\n",
    "vacation_start = vacation_df.loc[vacation_df['Hotel Name'] == \"Hotel Giardini\", :]\n",
    "vacation_end = vacation_df.loc[vacation_df['Hotel Name'] == \"Hotel Giardini\", :]\n",
    "vacation_stop1 = vacation_df.loc[vacation_df['Hotel Name'] == \"Pirineos\", :]\n",
    "vacation_stop2 = vacation_df.loc[vacation_df['Hotel Name'] == \"Posada Turistica Manapiare\", :] \n",
    "vacation_stop3 = vacation_df.loc[vacation_df['Hotel Name'] == \"Posada Villa Nela\", :] \n",
    "vacation_stop1"
   ]
  },
  {
   "cell_type": "code",
   "execution_count": 29,
   "metadata": {},
   "outputs": [
    {
     "data": {
      "text/plain": [
       "(8.01, -62.4)"
      ]
     },
     "execution_count": 29,
     "metadata": {},
     "output_type": "execute_result"
    }
   ],
   "source": [
    "# 6. Get the latitude-longitude pairs as tuples from each city DataFrame using the to_numpy function and list indexing.\n",
    "\n",
    "start = vacation_start['Lat'].to_numpy()[0] , vacation_start['Lng'].to_numpy()[0]\n",
    "end = vacation_end['Lat'].to_numpy()[0] , vacation_end['Lng'].to_numpy()[0]\n",
    "stop1 = vacation_stop1['Lat'].to_numpy()[0] , vacation_stop1['Lng'].to_numpy()[0]\n",
    "stop2 = vacation_stop2['Lat'].to_numpy()[0] , vacation_stop2['Lng'].to_numpy()[0]\n",
    "stop3 = vacation_stop3['Lat'].to_numpy()[0] , vacation_stop3['Lng'].to_numpy()[0]\n",
    "\n",
    "stop3"
   ]
  },
  {
   "cell_type": "code",
   "execution_count": 30,
   "metadata": {
    "scrolled": true
   },
   "outputs": [
    {
     "data": {
      "application/vnd.jupyter.widget-view+json": {
       "model_id": "bc0936c0518d4b608650da100880dd47",
       "version_major": 2,
       "version_minor": 0
      },
      "text/plain": [
       "Figure(layout=FigureLayout(height='420px'))"
      ]
     },
     "metadata": {},
     "output_type": "display_data"
    }
   ],
   "source": [
    "# 7. Create a direction layer map using the start and end latitude-longitude pairs,\n",
    "# and stop1, stop2, and stop3 as the waypoints. The travel_mode should be \"DRIVING\", \"BICYCLING\", or \"WALKING\".\n",
    "\n",
    "#Latitude-longitude pairs:\n",
    "import gmaps\n",
    "import gmaps.datasets\n",
    "\n",
    "start = start\n",
    "end = end\n",
    "stop1 = stop1\n",
    "stop2 = stop2\n",
    "stop3 = stop3\n",
    "\n",
    "fig = gmaps.figure()\n",
    "start2end_via_stops = gmaps.directions_layer(\n",
    "        start, end, waypoints=[stop1],\n",
    "        travel_mode='BICYCLING')\n",
    "fig.add_layer(start2end_via_stops)\n",
    "fig\n"
   ]
  },
  {
   "cell_type": "code",
   "execution_count": 19,
   "metadata": {},
   "outputs": [
    {
     "data": {
      "text/html": [
       "<div>\n",
       "<style scoped>\n",
       "    .dataframe tbody tr th:only-of-type {\n",
       "        vertical-align: middle;\n",
       "    }\n",
       "\n",
       "    .dataframe tbody tr th {\n",
       "        vertical-align: top;\n",
       "    }\n",
       "\n",
       "    .dataframe thead th {\n",
       "        text-align: right;\n",
       "    }\n",
       "</style>\n",
       "<table border=\"1\" class=\"dataframe\">\n",
       "  <thead>\n",
       "    <tr style=\"text-align: right;\">\n",
       "      <th></th>\n",
       "      <th>City_ID</th>\n",
       "      <th>City</th>\n",
       "      <th>Country</th>\n",
       "      <th>Max Temp</th>\n",
       "      <th>Current Description</th>\n",
       "      <th>Lat</th>\n",
       "      <th>Lng</th>\n",
       "      <th>Hotel Name</th>\n",
       "    </tr>\n",
       "  </thead>\n",
       "  <tbody>\n",
       "    <tr>\n",
       "      <th>0</th>\n",
       "      <td>381</td>\n",
       "      <td>Calabozo</td>\n",
       "      <td>VE</td>\n",
       "      <td>79.00</td>\n",
       "      <td>moderate rain</td>\n",
       "      <td>8.92</td>\n",
       "      <td>-67.43</td>\n",
       "      <td>Hotel Giardini</td>\n",
       "    </tr>\n",
       "    <tr>\n",
       "      <th>1</th>\n",
       "      <td>102</td>\n",
       "      <td>San Cristobal</td>\n",
       "      <td>VE</td>\n",
       "      <td>80.60</td>\n",
       "      <td>broken clouds</td>\n",
       "      <td>7.77</td>\n",
       "      <td>-72.22</td>\n",
       "      <td>Pirineos</td>\n",
       "    </tr>\n",
       "    <tr>\n",
       "      <th>2</th>\n",
       "      <td>176</td>\n",
       "      <td>Puerto Ayacucho</td>\n",
       "      <td>VE</td>\n",
       "      <td>80.60</td>\n",
       "      <td>broken clouds</td>\n",
       "      <td>5.66</td>\n",
       "      <td>-67.62</td>\n",
       "      <td>Posada Turistica Manapiare</td>\n",
       "    </tr>\n",
       "    <tr>\n",
       "      <th>3</th>\n",
       "      <td>430</td>\n",
       "      <td>Upata</td>\n",
       "      <td>VE</td>\n",
       "      <td>83.71</td>\n",
       "      <td>light rain</td>\n",
       "      <td>8.01</td>\n",
       "      <td>-62.40</td>\n",
       "      <td>Posada Villa Nela</td>\n",
       "    </tr>\n",
       "    <tr>\n",
       "      <th>4</th>\n",
       "      <td>381</td>\n",
       "      <td>Calabozo</td>\n",
       "      <td>VE</td>\n",
       "      <td>79.00</td>\n",
       "      <td>moderate rain</td>\n",
       "      <td>8.92</td>\n",
       "      <td>-67.43</td>\n",
       "      <td>Hotel Giardini</td>\n",
       "    </tr>\n",
       "  </tbody>\n",
       "</table>\n",
       "</div>"
      ],
      "text/plain": [
       "   City_ID             City Country  Max Temp Current Description   Lat  \\\n",
       "0      381         Calabozo      VE     79.00       moderate rain  8.92   \n",
       "1      102    San Cristobal      VE     80.60       broken clouds  7.77   \n",
       "2      176  Puerto Ayacucho      VE     80.60       broken clouds  5.66   \n",
       "3      430            Upata      VE     83.71          light rain  8.01   \n",
       "4      381         Calabozo      VE     79.00       moderate rain  8.92   \n",
       "\n",
       "     Lng                  Hotel Name  \n",
       "0 -67.43              Hotel Giardini  \n",
       "1 -72.22                    Pirineos  \n",
       "2 -67.62  Posada Turistica Manapiare  \n",
       "3 -62.40           Posada Villa Nela  \n",
       "4 -67.43              Hotel Giardini  "
      ]
     },
     "execution_count": 19,
     "metadata": {},
     "output_type": "execute_result"
    }
   ],
   "source": [
    "# 8. To create a marker layer map between the four cities.\n",
    "#  Combine the four city DataFrames into one DataFrame using the concat() function.\n",
    "itinerary_df = pd.concat([vacation_start, vacation_stop1, vacation_stop2, vacation_stop3, vacation_end],ignore_index=True)\n",
    "itinerary_df"
   ]
  },
  {
   "cell_type": "code",
   "execution_count": 20,
   "metadata": {},
   "outputs": [],
   "source": [
    "# 9 Using the template add city name, the country code, the weather description and maximum temperature for the city. \n",
    "info_box_template = \"\"\"\n",
    "<dl>\n",
    "<dt>Hotel Name</dt><dd>{Hotel Name}</dd>\n",
    "<dt>City</dt><dd>{City}</dd>\n",
    "<dt>Country</dt><dd>{Country}</dd>\n",
    "<dt>Current Weather</dt><dd>{Current Description} and {Max Temp} °F</dd>\n",
    "</dl>\n",
    "\"\"\"\n",
    "\n",
    "# 10a Get the data from each row and add it to the formatting template and store the data in a list.\n",
    "hotel_info = [info_box_template.format(**row) for index, row in itinerary_df.iterrows()]\n",
    "\n",
    "# 10b. Get the latitude and longitude from each row and store in a new DataFrame.\n",
    "locations = itinerary_df[[\"Lat\", \"Lng\"]]"
   ]
  },
  {
   "cell_type": "code",
   "execution_count": 10,
   "metadata": {},
   "outputs": [
    {
     "data": {
      "application/vnd.jupyter.widget-view+json": {
       "model_id": "166acc65793b4cc3a023b6fc2a7648e9",
       "version_major": 2,
       "version_minor": 0
      },
      "text/plain": [
       "Figure(layout=FigureLayout(height='420px'))"
      ]
     },
     "metadata": {},
     "output_type": "display_data"
    }
   ],
   "source": [
    "# 11a. Add a marker layer for each city to the map.\n",
    "max_temp = itinerary_df[\"Max Temp\"]\n",
    "fig = gmaps.figure(center=(30.0, 31.0), zoom_level=1.5)\n",
    "#heat_layer = gmaps.heatmap_layer(locations, weights=max_temp,dissipating=False,\n",
    "#             max_intensity=300, point_radius=4)\n",
    "marker_layer = gmaps.marker_layer(locations, info_box_content=hotel_info)\n",
    "#fig.add_layer(heat_layer)\n",
    "fig.add_layer(marker_layer)\n",
    "\n",
    "# 11b. Display the figure\n",
    "fig"
   ]
  },
  {
   "cell_type": "code",
   "execution_count": null,
   "metadata": {},
   "outputs": [],
   "source": []
  }
 ],
 "metadata": {
  "kernelspec": {
   "display_name": "PythonData",
   "language": "python",
   "name": "pythondata"
  },
  "language_info": {
   "codemirror_mode": {
    "name": "ipython",
    "version": 3
   },
   "file_extension": ".py",
   "mimetype": "text/x-python",
   "name": "python",
   "nbconvert_exporter": "python",
   "pygments_lexer": "ipython3",
   "version": "3.7.7"
  },
  "latex_envs": {
   "LaTeX_envs_menu_present": true,
   "autoclose": false,
   "autocomplete": true,
   "bibliofile": "biblio.bib",
   "cite_by": "apalike",
   "current_citInitial": 1,
   "eqLabelWithNumbers": true,
   "eqNumInitial": 1,
   "hotkeys": {
    "equation": "Ctrl-E",
    "itemize": "Ctrl-I"
   },
   "labels_anchors": false,
   "latex_user_defs": false,
   "report_style_numbering": false,
   "user_envs_cfg": false
  }
 },
 "nbformat": 4,
 "nbformat_minor": 2
}
